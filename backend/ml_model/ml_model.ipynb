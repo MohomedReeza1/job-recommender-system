{
  "nbformat": 4,
  "nbformat_minor": 0,
  "metadata": {
    "colab": {
      "provenance": []
    },
    "kernelspec": {
      "name": "python3",
      "display_name": "Python 3"
    },
    "language_info": {
      "name": "python"
    }
  },
  "cells": [
    {
      "cell_type": "code",
      "execution_count": 16,
      "metadata": {
        "id": "GkkT053VIrTn"
      },
      "outputs": [],
      "source": [
        "import pandas as pd\n",
        "import numpy as np\n",
        "import pickle\n",
        "from sklearn.feature_extraction.text import TfidfVectorizer\n",
        "from sklearn.metrics.pairwise import cosine_similarity\n",
        "from sklearn.decomposition import TruncatedSVD\n",
        "from sklearn.metrics import mean_squared_error\n",
        "from sklearn.model_selection import train_test_split\n",
        "from sklearn.preprocessing import MinMaxScaler"
      ]
    },
    {
      "cell_type": "code",
      "source": [
        "from google.colab import files\n",
        "uploaded = files.upload()"
      ],
      "metadata": {
        "colab": {
          "base_uri": "https://localhost:8080/",
          "height": 73
        },
        "id": "Bfk2PC8NJFOn",
        "outputId": "5b77d519-8f2e-47cf-a621-f219fdff4cff"
      },
      "execution_count": 3,
      "outputs": [
        {
          "output_type": "display_data",
          "data": {
            "text/plain": [
              "<IPython.core.display.HTML object>"
            ],
            "text/html": [
              "\n",
              "     <input type=\"file\" id=\"files-85e80b91-0478-4d2c-9f02-76e62e5bff01\" name=\"files[]\" multiple disabled\n",
              "        style=\"border:none\" />\n",
              "     <output id=\"result-85e80b91-0478-4d2c-9f02-76e62e5bff01\">\n",
              "      Upload widget is only available when the cell has been executed in the\n",
              "      current browser session. Please rerun this cell to enable.\n",
              "      </output>\n",
              "      <script>// Copyright 2017 Google LLC\n",
              "//\n",
              "// Licensed under the Apache License, Version 2.0 (the \"License\");\n",
              "// you may not use this file except in compliance with the License.\n",
              "// You may obtain a copy of the License at\n",
              "//\n",
              "//      http://www.apache.org/licenses/LICENSE-2.0\n",
              "//\n",
              "// Unless required by applicable law or agreed to in writing, software\n",
              "// distributed under the License is distributed on an \"AS IS\" BASIS,\n",
              "// WITHOUT WARRANTIES OR CONDITIONS OF ANY KIND, either express or implied.\n",
              "// See the License for the specific language governing permissions and\n",
              "// limitations under the License.\n",
              "\n",
              "/**\n",
              " * @fileoverview Helpers for google.colab Python module.\n",
              " */\n",
              "(function(scope) {\n",
              "function span(text, styleAttributes = {}) {\n",
              "  const element = document.createElement('span');\n",
              "  element.textContent = text;\n",
              "  for (const key of Object.keys(styleAttributes)) {\n",
              "    element.style[key] = styleAttributes[key];\n",
              "  }\n",
              "  return element;\n",
              "}\n",
              "\n",
              "// Max number of bytes which will be uploaded at a time.\n",
              "const MAX_PAYLOAD_SIZE = 100 * 1024;\n",
              "\n",
              "function _uploadFiles(inputId, outputId) {\n",
              "  const steps = uploadFilesStep(inputId, outputId);\n",
              "  const outputElement = document.getElementById(outputId);\n",
              "  // Cache steps on the outputElement to make it available for the next call\n",
              "  // to uploadFilesContinue from Python.\n",
              "  outputElement.steps = steps;\n",
              "\n",
              "  return _uploadFilesContinue(outputId);\n",
              "}\n",
              "\n",
              "// This is roughly an async generator (not supported in the browser yet),\n",
              "// where there are multiple asynchronous steps and the Python side is going\n",
              "// to poll for completion of each step.\n",
              "// This uses a Promise to block the python side on completion of each step,\n",
              "// then passes the result of the previous step as the input to the next step.\n",
              "function _uploadFilesContinue(outputId) {\n",
              "  const outputElement = document.getElementById(outputId);\n",
              "  const steps = outputElement.steps;\n",
              "\n",
              "  const next = steps.next(outputElement.lastPromiseValue);\n",
              "  return Promise.resolve(next.value.promise).then((value) => {\n",
              "    // Cache the last promise value to make it available to the next\n",
              "    // step of the generator.\n",
              "    outputElement.lastPromiseValue = value;\n",
              "    return next.value.response;\n",
              "  });\n",
              "}\n",
              "\n",
              "/**\n",
              " * Generator function which is called between each async step of the upload\n",
              " * process.\n",
              " * @param {string} inputId Element ID of the input file picker element.\n",
              " * @param {string} outputId Element ID of the output display.\n",
              " * @return {!Iterable<!Object>} Iterable of next steps.\n",
              " */\n",
              "function* uploadFilesStep(inputId, outputId) {\n",
              "  const inputElement = document.getElementById(inputId);\n",
              "  inputElement.disabled = false;\n",
              "\n",
              "  const outputElement = document.getElementById(outputId);\n",
              "  outputElement.innerHTML = '';\n",
              "\n",
              "  const pickedPromise = new Promise((resolve) => {\n",
              "    inputElement.addEventListener('change', (e) => {\n",
              "      resolve(e.target.files);\n",
              "    });\n",
              "  });\n",
              "\n",
              "  const cancel = document.createElement('button');\n",
              "  inputElement.parentElement.appendChild(cancel);\n",
              "  cancel.textContent = 'Cancel upload';\n",
              "  const cancelPromise = new Promise((resolve) => {\n",
              "    cancel.onclick = () => {\n",
              "      resolve(null);\n",
              "    };\n",
              "  });\n",
              "\n",
              "  // Wait for the user to pick the files.\n",
              "  const files = yield {\n",
              "    promise: Promise.race([pickedPromise, cancelPromise]),\n",
              "    response: {\n",
              "      action: 'starting',\n",
              "    }\n",
              "  };\n",
              "\n",
              "  cancel.remove();\n",
              "\n",
              "  // Disable the input element since further picks are not allowed.\n",
              "  inputElement.disabled = true;\n",
              "\n",
              "  if (!files) {\n",
              "    return {\n",
              "      response: {\n",
              "        action: 'complete',\n",
              "      }\n",
              "    };\n",
              "  }\n",
              "\n",
              "  for (const file of files) {\n",
              "    const li = document.createElement('li');\n",
              "    li.append(span(file.name, {fontWeight: 'bold'}));\n",
              "    li.append(span(\n",
              "        `(${file.type || 'n/a'}) - ${file.size} bytes, ` +\n",
              "        `last modified: ${\n",
              "            file.lastModifiedDate ? file.lastModifiedDate.toLocaleDateString() :\n",
              "                                    'n/a'} - `));\n",
              "    const percent = span('0% done');\n",
              "    li.appendChild(percent);\n",
              "\n",
              "    outputElement.appendChild(li);\n",
              "\n",
              "    const fileDataPromise = new Promise((resolve) => {\n",
              "      const reader = new FileReader();\n",
              "      reader.onload = (e) => {\n",
              "        resolve(e.target.result);\n",
              "      };\n",
              "      reader.readAsArrayBuffer(file);\n",
              "    });\n",
              "    // Wait for the data to be ready.\n",
              "    let fileData = yield {\n",
              "      promise: fileDataPromise,\n",
              "      response: {\n",
              "        action: 'continue',\n",
              "      }\n",
              "    };\n",
              "\n",
              "    // Use a chunked sending to avoid message size limits. See b/62115660.\n",
              "    let position = 0;\n",
              "    do {\n",
              "      const length = Math.min(fileData.byteLength - position, MAX_PAYLOAD_SIZE);\n",
              "      const chunk = new Uint8Array(fileData, position, length);\n",
              "      position += length;\n",
              "\n",
              "      const base64 = btoa(String.fromCharCode.apply(null, chunk));\n",
              "      yield {\n",
              "        response: {\n",
              "          action: 'append',\n",
              "          file: file.name,\n",
              "          data: base64,\n",
              "        },\n",
              "      };\n",
              "\n",
              "      let percentDone = fileData.byteLength === 0 ?\n",
              "          100 :\n",
              "          Math.round((position / fileData.byteLength) * 100);\n",
              "      percent.textContent = `${percentDone}% done`;\n",
              "\n",
              "    } while (position < fileData.byteLength);\n",
              "  }\n",
              "\n",
              "  // All done.\n",
              "  yield {\n",
              "    response: {\n",
              "      action: 'complete',\n",
              "    }\n",
              "  };\n",
              "}\n",
              "\n",
              "scope.google = scope.google || {};\n",
              "scope.google.colab = scope.google.colab || {};\n",
              "scope.google.colab._files = {\n",
              "  _uploadFiles,\n",
              "  _uploadFilesContinue,\n",
              "};\n",
              "})(self);\n",
              "</script> "
            ]
          },
          "metadata": {}
        },
        {
          "output_type": "stream",
          "name": "stdout",
          "text": [
            "Saving main_dataset.xlsx to main_dataset.xlsx\n"
          ]
        }
      ]
    },
    {
      "cell_type": "code",
      "source": [
        "# Step 1: Data Collection – Load dataset from Excel\n",
        "file_path = \"main_dataset.xlsx\"\n",
        "user_data = pd.read_excel(file_path, sheet_name=\"user_data\")\n",
        "job_data = pd.read_excel(file_path, sheet_name=\"job_data\")\n",
        "interaction_data = pd.read_excel(file_path, sheet_name=\"interaction_data\")"
      ],
      "metadata": {
        "id": "cGELLKCoJUfh"
      },
      "execution_count": 30,
      "outputs": []
    },
    {
      "cell_type": "code",
      "source": [
        "# Step 2: Data Preprocessing – Handle missing values, combine attributes\n",
        "user_data.fillna('', inplace=True)\n",
        "job_data.fillna('', inplace=True)\n",
        "interaction_data.fillna(0, inplace=True)\n",
        "\n",
        "user_data['Profile'] = (\n",
        "    user_data['Skills'] + ' ' +\n",
        "    user_data['Interests'] + ' ' +\n",
        "    user_data['Previous Jobs'] + ' ' +\n",
        "    user_data['Looking Jobs'] + ' ' +\n",
        "    user_data['Description']\n",
        ")\n",
        "\n",
        "job_data['Details'] = (\n",
        "    job_data['Job Title'] + ' ' +\n",
        "    job_data['Skills Required'] + ' ' +\n",
        "    job_data['Experience Required'] + ' ' +\n",
        "    job_data['Job Description']\n",
        ")"
      ],
      "metadata": {
        "id": "lC-OYeCRJj0c"
      },
      "execution_count": 31,
      "outputs": []
    },
    {
      "cell_type": "code",
      "source": [
        "# Step 3: Feature Engineering – TF-IDF vectorization for content-based filtering\n",
        "combined_text = pd.concat([user_data['Profile'], job_data['Details']], axis=0)\n",
        "tfidf = TfidfVectorizer(stop_words=\"english\", max_features=5000)  # Limit features to optimize performance\n",
        "tfidf_matrix = tfidf.fit_transform(combined_text)\n",
        "\n",
        "# Reduce dimensionality of TF-IDF matrix\n",
        "svd_tfidf = TruncatedSVD(n_components=200, random_state=42)\n",
        "reduced_tfidf_matrix = svd_tfidf.fit_transform(tfidf_matrix)\n",
        "\n",
        "# Split back into user and job matrices\n",
        "user_tfidf = reduced_tfidf_matrix[:len(user_data)]\n",
        "job_tfidf = reduced_tfidf_matrix[len(user_data):]"
      ],
      "metadata": {
        "id": "k2cxCQMFJn7n"
      },
      "execution_count": 32,
      "outputs": []
    },
    {
      "cell_type": "code",
      "source": [
        "# Step 4: Model Training (Content-Based Filtering) – Compute cosine similarity\n",
        "similarity_matrix = cosine_similarity(user_tfidf, job_tfidf)"
      ],
      "metadata": {
        "id": "H2_q29nOJ4Th"
      },
      "execution_count": 33,
      "outputs": []
    },
    {
      "cell_type": "code",
      "source": [
        "# Step 5: Model Training (Collaborative Filtering) – SVD on interaction matrix\n",
        "interaction_matrix = interaction_data.pivot_table(\n",
        "    index='User ID', columns='Job ID', values='Interaction Value', fill_value=0\n",
        ")"
      ],
      "metadata": {
        "id": "K1hIkiuhJ8BW"
      },
      "execution_count": 34,
      "outputs": []
    },
    {
      "cell_type": "code",
      "source": [
        "# Step 6: Train-Test Split\n",
        "train_data, test_data = train_test_split(interaction_data, test_size=0.2, random_state=42)\n",
        "train_interaction_matrix = train_data.pivot_table(\n",
        "    index='User ID', columns='Job ID', values='Interaction Value', fill_value=0\n",
        ")\n",
        "test_interaction_matrix = test_data.pivot_table(\n",
        "    index='User ID', columns='Job ID', values='Interaction Value', fill_value=0\n",
        ")\n",
        "\n",
        "train_user_ids = train_interaction_matrix.index.tolist()\n",
        "train_job_ids = train_interaction_matrix.columns.tolist()"
      ],
      "metadata": {
        "id": "0hA-h5YtJ-is"
      },
      "execution_count": 35,
      "outputs": []
    },
    {
      "cell_type": "code",
      "source": [
        "# Step 7: Collaborative Filtering using SVD\n",
        "# Hyperparameter Tuning – Optimize n_components\n",
        "n_components = min(100, train_interaction_matrix.shape[1])  # Dynamically adjust components\n",
        "svd = TruncatedSVD(n_components=n_components, random_state=42)\n",
        "latent_matrix = svd.fit_transform(train_interaction_matrix)\n",
        "predicted_train_matrix = np.dot(latent_matrix, svd.components_)"
      ],
      "metadata": {
        "id": "-GEeUefiKCP9"
      },
      "execution_count": 36,
      "outputs": []
    },
    {
      "cell_type": "code",
      "source": [
        "# Step 8: Hybrid Model\n",
        "# Normalize Scores\n",
        "scaler = MinMaxScaler()\n",
        "content_scores = scaler.fit_transform(similarity_matrix)\n",
        "collab_scores = scaler.fit_transform(predicted_train_matrix)\n",
        "\n",
        "# Find common user IDs in both matrices\n",
        "common_user_ids = list(set(user_data['User ID']).intersection(set(train_user_ids)))\n",
        "user_indices_content = [list(user_data['User ID']).index(user_id) for user_id in common_user_ids]\n",
        "user_indices_collab = [train_user_ids.index(user_id) for user_id in common_user_ids]\n",
        "\n",
        "# Find common job IDs in both matrices\n",
        "common_job_ids = list(set(job_data['Job ID']).intersection(set(train_job_ids)))\n",
        "job_indices_content = [list(job_data['Job ID']).index(job_id) for job_id in common_job_ids]\n",
        "job_indices_collab = [train_job_ids.index(job_id) for job_id in common_job_ids]\n",
        "\n",
        "# Filter both matrices based on common users and jobs\n",
        "content_scores_filtered = content_scores[user_indices_content][:, job_indices_content]\n",
        "collab_scores_filtered = collab_scores[user_indices_collab][:, job_indices_collab]\n",
        "\n",
        "hybrid_scores = (0.5 * content_scores_filtered) + (0.5 * collab_scores_filtered)\n",
        "hybrid_scores = scaler.fit_transform(hybrid_scores)"
      ],
      "metadata": {
        "id": "Xoa5K_esKMii"
      },
      "execution_count": 37,
      "outputs": []
    },
    {
      "cell_type": "code",
      "source": [
        "# Step 9: Generate Recommendations\n",
        "hybrid_recommendations = []\n",
        "top_k = 5  # Number of job recommendations per user\n",
        "\n",
        "for user_idx, user_id in enumerate(common_user_ids):\n",
        "    user_hybrid_scores = hybrid_scores[user_idx]\n",
        "    sorted_jobs = sorted(\n",
        "        enumerate(user_hybrid_scores), key=lambda x: x[1], reverse=True\n",
        "    )\n",
        "    top_jobs = [common_job_ids[job_idx] for job_idx, score in sorted_jobs[:top_k]]\n",
        "    hybrid_recommendations.append({\"User ID\": user_id, \"Recommended Jobs\": top_jobs})\n",
        "\n",
        "hybrid_recommendations_df = pd.DataFrame(hybrid_recommendations)\n",
        "hybrid_recommendations_df.to_csv(\"generated_recommendations.csv\", index=False)"
      ],
      "metadata": {
        "id": "o8HLFA8KWC8s"
      },
      "execution_count": 39,
      "outputs": []
    },
    {
      "cell_type": "code",
      "source": [
        "# Step 10: Apply Model to Testing Data\n",
        "\n",
        "# Ensure test interaction matrix has the same columns as training\n",
        "test_interaction_matrix = test_interaction_matrix.reindex(columns=train_interaction_matrix.columns, fill_value=0)\n",
        "\n",
        "# Apply SVD transformation correctly\n",
        "predicted_test_matrix = np.dot(svd.transform(test_interaction_matrix), svd.components_)\n",
        "\n",
        "# Convert to DataFrame\n",
        "predicted_df_test = pd.DataFrame(predicted_test_matrix, index=test_interaction_matrix.index, columns=train_interaction_matrix.columns)\n"
      ],
      "metadata": {
        "id": "y41Rmx_LbHq7"
      },
      "execution_count": 43,
      "outputs": []
    },
    {
      "cell_type": "code",
      "source": [
        "# Step 11: Evaluate Model Performance – Compute Precision@K, Recall@K, NDCG, RMSE\n",
        "def mean_reciprocal_rank(predictions, actual):\n",
        "    reciprocal_ranks = []\n",
        "    for user in predictions.index:\n",
        "        if user in actual.index:\n",
        "            top_predictions = predictions.loc[user].sort_values(ascending=False).index\n",
        "            actual_jobs = actual.loc[user][actual.loc[user] > 0].index\n",
        "            for rank, job_id in enumerate(top_predictions, start=1):\n",
        "                if job_id in actual_jobs:\n",
        "                    reciprocal_ranks.append(1 / rank)\n",
        "                    break\n",
        "    return np.mean(reciprocal_ranks) if reciprocal_ranks else 0\n",
        "\n",
        "def precision_at_k(predictions, actual, k=5):\n",
        "    precision_scores = []\n",
        "    for user in predictions.index:\n",
        "        if user in actual.index:\n",
        "            top_k_predictions = predictions.loc[user].sort_values(ascending=False).head(k).index\n",
        "            actual_jobs = actual.loc[user][actual.loc[user] > 0].index\n",
        "            hits = len(set(top_k_predictions).intersection(set(actual_jobs)))\n",
        "            precision_scores.append(hits / k)\n",
        "    return sum(precision_scores) / len(precision_scores) if precision_scores else 0\n",
        "\n",
        "def recall_at_k(predictions, actual, k=5):\n",
        "    recall_scores = []\n",
        "    for user in predictions.index:\n",
        "        if user in actual.index:\n",
        "            top_k_predictions = predictions.loc[user].sort_values(ascending=False).head(k).index\n",
        "            actual_jobs = actual.loc[user][actual.loc[user] > 0].index\n",
        "            hits = len(set(top_k_predictions).intersection(set(actual_jobs)))\n",
        "            recall_scores.append(hits / len(actual_jobs) if len(actual_jobs) > 0 else 0)\n",
        "    return sum(recall_scores) / len(recall_scores) if recall_scores else 0\n",
        "\n",
        "def compute_accuracy(predictions, actual, k=5):\n",
        "    correct_predictions = 0\n",
        "    total_users = len(predictions.index)\n",
        "\n",
        "    for user in predictions.index:\n",
        "        if user in actual.index:\n",
        "            top_k_predictions = predictions.loc[user].sort_values(ascending=False).head(k).index\n",
        "            actual_jobs = actual.loc[user][actual.loc[user] > 0].index\n",
        "            if len(set(top_k_predictions) & set(actual_jobs)) > 0:\n",
        "                correct_predictions += 1\n",
        "\n",
        "    return correct_predictions / total_users if total_users > 0 else 0\n",
        "\n",
        "mrr = mean_reciprocal_rank(predicted_df_test, test_interaction_matrix)\n",
        "precision = precision_at_k(predicted_df_test, test_interaction_matrix, k=5)\n",
        "recall = recall_at_k(predicted_df_test, test_interaction_matrix, k=5)\n",
        "ndcg = ndcg_score(test_interaction_matrix.values, predicted_df_test.values)\n",
        "rmse = np.sqrt(mean_squared_error(test_interaction_matrix.values.flatten(), predicted_df_test.values.flatten()))\n",
        "accuracy = compute_accuracy(predicted_df_test, test_interaction_matrix, k=5)\n",
        "\n",
        "print(f\"MRR: {mrr:.4f}\")\n",
        "print(f\"Precision@5: {precision:.4f}\")\n",
        "print(f\"Recall@5: {recall:.4f}\")\n",
        "print(f\"NDCG: {ndcg:.4f}\")\n",
        "print(f\"RMSE: {rmse:.4f}\")\n",
        "print(f\"Accuracy: {accuracy:.4f}\")"
      ],
      "metadata": {
        "colab": {
          "base_uri": "https://localhost:8080/"
        },
        "id": "ozzEvTHUbV7w",
        "outputId": "bd4331b3-11d0-40e6-860e-a6c5a3363ea2"
      },
      "execution_count": 48,
      "outputs": [
        {
          "output_type": "stream",
          "name": "stdout",
          "text": [
            "MRR: 0.8174\n",
            "Precision@5: 0.2585\n",
            "Recall@5: 0.9851\n",
            "NDCG: 0.8564\n",
            "RMSE: 0.0270\n",
            "Accuracy: 0.9869\n"
          ]
        }
      ]
    },
    {
      "cell_type": "code",
      "source": [
        "# Making Predictions with New Data\n",
        "\n",
        "def get_job_recommendations_for_new_user(user_profile, job_data, tfidf, hybrid_scores, common_job_ids, top_k=5):\n",
        "    \"\"\"\n",
        "    Generate job recommendations for a new user based on their profile.\n",
        "\n",
        "    Args:\n",
        "        user_profile (dict): New user profile containing all attributes.\n",
        "        job_data (DataFrame): Job dataset.\n",
        "        tfidf (TfidfVectorizer): Trained TF-IDF model.\n",
        "        hybrid_scores (ndarray): Hybrid model scores (content-based + collaborative filtering).\n",
        "        common_job_ids (list): List of jobs available in the hybrid model.\n",
        "        top_k (int): Number of job recommendations to return.\n",
        "\n",
        "    Returns:\n",
        "        DataFrame: Top-K recommended jobs with Job ID, Job Title, and Country.\n",
        "    \"\"\"\n",
        "\n",
        "    # Convert user profile into a formatted text string\n",
        "    user_text = (\n",
        "        user_profile['Skills'] + ' ' +\n",
        "        user_profile['Interests'] + ' ' +\n",
        "        user_profile['Previous Jobs'] + ' ' +\n",
        "        user_profile['Looking Jobs'] + ' ' +\n",
        "        user_profile['Description']\n",
        "    )\n",
        "\n",
        "    # Convert new user profile into a TF-IDF vector\n",
        "    user_vector = tfidf.transform([user_text])\n",
        "\n",
        "    # Compute similarity with jobs\n",
        "    job_vectors = tfidf.transform(job_data['Details'])\n",
        "    similarity_scores = cosine_similarity(user_vector, job_vectors).flatten()\n",
        "\n",
        "    # Convert job IDs from job_data to a list\n",
        "    job_ids = job_data['Job ID'].tolist()\n",
        "\n",
        "    # Find the common job IDs between content-based and hybrid model\n",
        "    common_jobs_between_models = list(set(job_ids).intersection(set(common_job_ids)))\n",
        "\n",
        "    # Filter similarity scores to align with available hybrid model job IDs\n",
        "    job_indices_content = [job_ids.index(job_id) for job_id in common_jobs_between_models]\n",
        "    job_indices_hybrid = [common_job_ids.index(job_id) for job_id in common_jobs_between_models]\n",
        "\n",
        "    similarity_scores_filtered = similarity_scores[job_indices_content]\n",
        "    hybrid_scores_filtered = hybrid_scores[:, job_indices_hybrid]\n",
        "\n",
        "    # Compute final hybrid recommendation scores\n",
        "    final_scores = (0.5 * similarity_scores_filtered) + (0.5 * hybrid_scores_filtered.mean(axis=0))\n",
        "\n",
        "    # Select top K job recommendations\n",
        "    top_job_indices = final_scores.argsort()[-top_k:][::-1]\n",
        "    recommended_jobs = [common_jobs_between_models[idx] for idx in top_job_indices]\n",
        "\n",
        "    # Retrieve job details (Job ID, Job Title, Country)\n",
        "    recommended_job_details = job_data[job_data['Job ID'].isin(recommended_jobs)][['Job ID', 'Job Title', 'Country']]\n",
        "\n",
        "    return recommended_job_details"
      ],
      "metadata": {
        "id": "dsm4KPjyd3sp"
      },
      "execution_count": 55,
      "outputs": []
    },
    {
      "cell_type": "code",
      "source": [
        "# Example new user profile\n",
        "new_user_profile = {\n",
        "    \"Skills\": \"Waiter, Customer Service, Hospitality\",\n",
        "    \"Interests\": \"Food, Service, Tourism\",\n",
        "    \"Previous Jobs\": \"Hotel Staff, Receptionist\",\n",
        "    \"Looking Jobs\": \"Waiter, Housekeeping, Hotel Staff\",\n",
        "    \"Description\": \"Looking for a job in the hospitality industry abroad\",\n",
        "    \"Passport Status\": \"Valid\"\n",
        "}\n",
        "\n",
        "# Get top job recommendations for the new user\n",
        "recommended_jobs = get_job_recommendations_for_new_user(\n",
        "    new_user_profile, job_data, tfidf, hybrid_scores, common_job_ids, top_k=5\n",
        ")\n",
        "\n",
        "# print(f\"Top job recommendations : {recommended_jobs}\")\n",
        "\n",
        "# print(\"\\nTop job recommendations:\\n\")\n",
        "# print(recommended_jobs.to_string(index=False))\n",
        "\n",
        "from tabulate import tabulate\n",
        "\n",
        "# Print nicely formatted table\n",
        "print(\"\\nTop job recommendations:\\n\")\n",
        "print(tabulate(recommended_jobs, headers=\"keys\", tablefmt=\"fancy_grid\"))\n"
      ],
      "metadata": {
        "colab": {
          "base_uri": "https://localhost:8080/"
        },
        "id": "YwM82RiKi2d7",
        "outputId": "0fc203a0-eadc-4a91-a02d-5b1e733f0276"
      },
      "execution_count": 59,
      "outputs": [
        {
          "output_type": "stream",
          "name": "stdout",
          "text": [
            "\n",
            "Top job recommendations:\n",
            "\n",
            "╒═════╤══════════╤════════════════════════╤═══════════╕\n",
            "│     │   Job ID │ Job Title              │ Country   │\n",
            "╞═════╪══════════╪════════════════════════╪═══════════╡\n",
            "│  50 │       51 │ Cleaning Girls (Hotel) │ Romania   │\n",
            "├─────┼──────────┼────────────────────────┼───────────┤\n",
            "│  96 │       97 │ Head Waiter            │ Kuwait    │\n",
            "├─────┼──────────┼────────────────────────┼───────────┤\n",
            "│ 188 │      189 │ Waiter                 │ Kuwait    │\n",
            "├─────┼──────────┼────────────────────────┼───────────┤\n",
            "│ 189 │      190 │ Waiter                 │ Kuwait    │\n",
            "├─────┼──────────┼────────────────────────┼───────────┤\n",
            "│ 190 │      191 │ Waitress               │ Romania   │\n",
            "╘═════╧══════════╧════════════════════════╧═══════════╛\n"
          ]
        }
      ]
    },
    {
      "cell_type": "code",
      "source": [
        "# Step 11: Save Model – Store trained models using pickle\n",
        "with open(\"tfidf_vectorizer.pkl\", \"wb\") as f:\n",
        "    pickle.dump(tfidf, f)\n",
        "\n",
        "with open(\"svd_model.pkl\", \"wb\") as f:\n",
        "    pickle.dump(svd, f)\n",
        "\n",
        "predicted_df_test.to_pickle(\"predicted_matrix_test.pkl\")\n",
        "\n",
        "print(\"Updated model trained, tested, and saved successfully!\")"
      ],
      "metadata": {
        "colab": {
          "base_uri": "https://localhost:8080/"
        },
        "id": "uXVUdcdHb7k4",
        "outputId": "018238fa-7bf1-4d3b-fde7-94529eecca07"
      },
      "execution_count": 60,
      "outputs": [
        {
          "output_type": "stream",
          "name": "stdout",
          "text": [
            "Updated model trained, tested, and saved successfully!\n"
          ]
        }
      ]
    },
    {
      "cell_type": "code",
      "source": [
        "from google.colab import files\n",
        "\n",
        "# Download the saved files\n",
        "files.download(\"tfidf_vectorizer.pkl\")\n",
        "files.download(\"svd_model.pkl\")\n",
        "files.download(\"predicted_matrix_test.pkl\")"
      ],
      "metadata": {
        "colab": {
          "base_uri": "https://localhost:8080/",
          "height": 17
        },
        "id": "-SipY7jMnt8E",
        "outputId": "7f1e28ea-4eda-4b7b-ed63-49a361c31e7c"
      },
      "execution_count": 61,
      "outputs": [
        {
          "output_type": "display_data",
          "data": {
            "text/plain": [
              "<IPython.core.display.Javascript object>"
            ],
            "application/javascript": [
              "\n",
              "    async function download(id, filename, size) {\n",
              "      if (!google.colab.kernel.accessAllowed) {\n",
              "        return;\n",
              "      }\n",
              "      const div = document.createElement('div');\n",
              "      const label = document.createElement('label');\n",
              "      label.textContent = `Downloading \"${filename}\": `;\n",
              "      div.appendChild(label);\n",
              "      const progress = document.createElement('progress');\n",
              "      progress.max = size;\n",
              "      div.appendChild(progress);\n",
              "      document.body.appendChild(div);\n",
              "\n",
              "      const buffers = [];\n",
              "      let downloaded = 0;\n",
              "\n",
              "      const channel = await google.colab.kernel.comms.open(id);\n",
              "      // Send a message to notify the kernel that we're ready.\n",
              "      channel.send({})\n",
              "\n",
              "      for await (const message of channel.messages) {\n",
              "        // Send a message to notify the kernel that we're ready.\n",
              "        channel.send({})\n",
              "        if (message.buffers) {\n",
              "          for (const buffer of message.buffers) {\n",
              "            buffers.push(buffer);\n",
              "            downloaded += buffer.byteLength;\n",
              "            progress.value = downloaded;\n",
              "          }\n",
              "        }\n",
              "      }\n",
              "      const blob = new Blob(buffers, {type: 'application/binary'});\n",
              "      const a = document.createElement('a');\n",
              "      a.href = window.URL.createObjectURL(blob);\n",
              "      a.download = filename;\n",
              "      div.appendChild(a);\n",
              "      a.click();\n",
              "      div.remove();\n",
              "    }\n",
              "  "
            ]
          },
          "metadata": {}
        },
        {
          "output_type": "display_data",
          "data": {
            "text/plain": [
              "<IPython.core.display.Javascript object>"
            ],
            "application/javascript": [
              "download(\"download_9cc1d602-2197-486d-a985-af854c304598\", \"tfidf_vectorizer.pkl\", 24374)"
            ]
          },
          "metadata": {}
        },
        {
          "output_type": "display_data",
          "data": {
            "text/plain": [
              "<IPython.core.display.Javascript object>"
            ],
            "application/javascript": [
              "\n",
              "    async function download(id, filename, size) {\n",
              "      if (!google.colab.kernel.accessAllowed) {\n",
              "        return;\n",
              "      }\n",
              "      const div = document.createElement('div');\n",
              "      const label = document.createElement('label');\n",
              "      label.textContent = `Downloading \"${filename}\": `;\n",
              "      div.appendChild(label);\n",
              "      const progress = document.createElement('progress');\n",
              "      progress.max = size;\n",
              "      div.appendChild(progress);\n",
              "      document.body.appendChild(div);\n",
              "\n",
              "      const buffers = [];\n",
              "      let downloaded = 0;\n",
              "\n",
              "      const channel = await google.colab.kernel.comms.open(id);\n",
              "      // Send a message to notify the kernel that we're ready.\n",
              "      channel.send({})\n",
              "\n",
              "      for await (const message of channel.messages) {\n",
              "        // Send a message to notify the kernel that we're ready.\n",
              "        channel.send({})\n",
              "        if (message.buffers) {\n",
              "          for (const buffer of message.buffers) {\n",
              "            buffers.push(buffer);\n",
              "            downloaded += buffer.byteLength;\n",
              "            progress.value = downloaded;\n",
              "          }\n",
              "        }\n",
              "      }\n",
              "      const blob = new Blob(buffers, {type: 'application/binary'});\n",
              "      const a = document.createElement('a');\n",
              "      a.href = window.URL.createObjectURL(blob);\n",
              "      a.download = filename;\n",
              "      div.appendChild(a);\n",
              "      a.click();\n",
              "      div.remove();\n",
              "    }\n",
              "  "
            ]
          },
          "metadata": {}
        },
        {
          "output_type": "display_data",
          "data": {
            "text/plain": [
              "<IPython.core.display.Javascript object>"
            ],
            "application/javascript": [
              "download(\"download_27530e0a-f2aa-44ed-8910-696831a16603\", \"svd_model.pkl\", 161392)"
            ]
          },
          "metadata": {}
        },
        {
          "output_type": "display_data",
          "data": {
            "text/plain": [
              "<IPython.core.display.Javascript object>"
            ],
            "application/javascript": [
              "\n",
              "    async function download(id, filename, size) {\n",
              "      if (!google.colab.kernel.accessAllowed) {\n",
              "        return;\n",
              "      }\n",
              "      const div = document.createElement('div');\n",
              "      const label = document.createElement('label');\n",
              "      label.textContent = `Downloading \"${filename}\": `;\n",
              "      div.appendChild(label);\n",
              "      const progress = document.createElement('progress');\n",
              "      progress.max = size;\n",
              "      div.appendChild(progress);\n",
              "      document.body.appendChild(div);\n",
              "\n",
              "      const buffers = [];\n",
              "      let downloaded = 0;\n",
              "\n",
              "      const channel = await google.colab.kernel.comms.open(id);\n",
              "      // Send a message to notify the kernel that we're ready.\n",
              "      channel.send({})\n",
              "\n",
              "      for await (const message of channel.messages) {\n",
              "        // Send a message to notify the kernel that we're ready.\n",
              "        channel.send({})\n",
              "        if (message.buffers) {\n",
              "          for (const buffer of message.buffers) {\n",
              "            buffers.push(buffer);\n",
              "            downloaded += buffer.byteLength;\n",
              "            progress.value = downloaded;\n",
              "          }\n",
              "        }\n",
              "      }\n",
              "      const blob = new Blob(buffers, {type: 'application/binary'});\n",
              "      const a = document.createElement('a');\n",
              "      a.href = window.URL.createObjectURL(blob);\n",
              "      a.download = filename;\n",
              "      div.appendChild(a);\n",
              "      a.click();\n",
              "      div.remove();\n",
              "    }\n",
              "  "
            ]
          },
          "metadata": {}
        },
        {
          "output_type": "display_data",
          "data": {
            "text/plain": [
              "<IPython.core.display.Javascript object>"
            ],
            "application/javascript": [
              "download(\"download_0cc0670f-e3e0-4331-b465-8ca42dd91600\", \"predicted_matrix_test.pkl\", 731329)"
            ]
          },
          "metadata": {}
        }
      ]
    }
  ]
}